{
 "cells": [
  {
   "cell_type": "code",
   "execution_count": 1,
   "metadata": {},
   "outputs": [],
   "source": [
    "import pandas as pd"
   ]
  },
  {
   "cell_type": "code",
   "execution_count": 2,
   "metadata": {},
   "outputs": [],
   "source": [
    "df_questions = pd.read_csv(\"../datasets/cleaned/cleaned_dataset.csv\")\n",
    "df_documents = pd.read_csv(\"../datasets/cleaned/cleaned_document_dataset.csv\")"
   ]
  },
  {
   "cell_type": "code",
   "execution_count": null,
   "metadata": {},
   "outputs": [],
   "source": [
    "import dspy\n",
    "from qdrant_client import models, QdrantClient\n",
    "from sentence_transformers import SentenceTransformer\n",
    "from dspy.retrieve.qdrant_rm import QdrantRM\n",
    "from vectorizer import CustomSentenceVectorizer"
   ]
  },
  {
   "cell_type": "code",
   "execution_count": 213,
   "metadata": {
    "scrolled": true
   },
   "outputs": [],
   "source": [
    "encoder = SentenceTransformer('intfloat/multilingual-e5-large')"
   ]
  },
  {
   "cell_type": "code",
   "execution_count": 6,
   "metadata": {},
   "outputs": [],
   "source": [
    "qdrant = QdrantClient(\":memory:\")"
   ]
  },
  {
   "cell_type": "code",
   "execution_count": 7,
   "metadata": {},
   "outputs": [
    {
     "name": "stderr",
     "output_type": "stream",
     "text": [
      "/tmp/ipykernel_17154/1864381341.py:2: DeprecationWarning: `recreate_collection` method is deprecated and will be removed in the future. Use `collection_exists` to check collection existence and `create_collection` instead.\n",
      "  qdrant.recreate_collection(\n"
     ]
    },
    {
     "data": {
      "text/plain": [
       "True"
      ]
     },
     "execution_count": 7,
     "metadata": {},
     "output_type": "execute_result"
    }
   ],
   "source": [
    "# Create collection to store books\n",
    "qdrant.recreate_collection(\n",
    "    collection_name=\"main-document\",\n",
    "    vectors_config=models.VectorParams(\n",
    "        size=encoder.get_sentence_embedding_dimension(), # Vector size is defined by used model\n",
    "        distance=models.Distance.COSINE\n",
    "    )\n",
    ")"
   ]
  },
  {
   "cell_type": "code",
   "execution_count": 65,
   "metadata": {},
   "outputs": [
    {
     "name": "stderr",
     "output_type": "stream",
     "text": [
      "/tmp/ipykernel_17154/2208216076.py:1: DeprecationWarning: `upload_records` is deprecated, use `upload_points` instead\n",
      "  qdrant.upload_records(\n"
     ]
    }
   ],
   "source": [
    "qdrant.upload_records(\n",
    "    collection_name=\"main-document\",\n",
    "    records=[\n",
    "        models.Record(\n",
    "            id=idx,\n",
    "            vector=eval(record[\"embedding\"]),\n",
    "            payload={\"sentence\": record[\"sentence\"]}\n",
    "        ) for idx, record in df_documents.iterrows()\n",
    "    ]\n",
    ")"
   ]
  },
  {
   "cell_type": "code",
   "execution_count": 66,
   "metadata": {},
   "outputs": [],
   "source": [
    "e5_vectorizer = CustomSentenceVectorizer('intfloat/multilingual-e5-large')"
   ]
  },
  {
   "cell_type": "code",
   "execution_count": 67,
   "metadata": {},
   "outputs": [],
   "source": [
    "qdrant_retriever_model = QdrantRM(\"main-document\", qdrant, k=3, vectorizer=e5_vectorizer, document_field=\"sentence\")"
   ]
  },
  {
   "cell_type": "code",
   "execution_count": 204,
   "metadata": {},
   "outputs": [],
   "source": [
    "ollama_model = dspy.OllamaLocal(model=\"command-r\",model_type='text',\n",
    "                                max_tokens=10000,\n",
    "                                temperature=0.1,\n",
    "                                top_p=0.8, frequency_penalty=1.17, top_k=40)"
   ]
  },
  {
   "cell_type": "code",
   "execution_count": 206,
   "metadata": {},
   "outputs": [],
   "source": [
    "dspy.settings.configure(lm=ollama_model)"
   ]
  },
  {
   "cell_type": "code",
   "execution_count": 207,
   "metadata": {},
   "outputs": [],
   "source": [
    "class GenerateAnswer(dspy.Signature):\n",
    "    \"\"\"الإجابة على الأسئلة بإجابات مختصرة ومباشرة.\"\"\"\n",
    "\n",
    "    context = dspy.InputField(prefix=\"السياق:\", desc=\"من الممكن ان يحتوي على السياق\")\n",
    "    question = dspy.InputField(prefix=\"السؤال:\", desc=\":{السؤال}\")\n",
    "    answer = dspy.OutputField(prefix=\"الجواب:\", desc=\"جواب من ٥ الى ١٠ كلمات\")"
   ]
  },
  {
   "cell_type": "code",
   "execution_count": 208,
   "metadata": {},
   "outputs": [],
   "source": [
    "arabic_rationale = dspy.OutputField(\n",
    "            prefix=\"الاستدلال: دعونا نفكر خطوة بخطوة من أجل\",\n",
    "            desc=\"{إنتاج الإجابة}. نقوم ب…\",\n",
    "        )"
   ]
  },
  {
   "cell_type": "code",
   "execution_count": 209,
   "metadata": {},
   "outputs": [],
   "source": [
    "class RAG(dspy.Module):\n",
    "    def __init__(self, num_passages=1):\n",
    "        super().__init__()\n",
    "        self.retrieve = dspy.Retrieve(k=num_passages)\n",
    "        self.generate_answer = dspy.ChainOfThought(GenerateAnswer, rationale_type=arabic_rationale)\n",
    "\n",
    "    def forward(self, question):\n",
    "        context = self.retrieve(question).passages\n",
    "        prediction = self.generate_answer(context=context, question=question)\n",
    "        return dspy.Prediction(context=context, answer=prediction.answer)"
   ]
  },
  {
   "cell_type": "code",
   "execution_count": 210,
   "metadata": {},
   "outputs": [],
   "source": [
    "uncompiled_rag = RAG()"
   ]
  },
  {
   "cell_type": "code",
   "execution_count": 211,
   "metadata": {},
   "outputs": [
    {
     "name": "stdout",
     "output_type": "stream",
     "text": [
      "زيادة الإنفاق على المشاريع التنموية.\n"
     ]
    }
   ],
   "source": [
    "my_question = \"ما هي خطة الانفاق للأعوام القادمة؟\"\n",
    "response = uncompiled_rag(my_question)\n",
    "print(response.answer)"
   ]
  },
  {
   "cell_type": "code",
   "execution_count": 212,
   "metadata": {},
   "outputs": [
    {
     "name": "stdout",
     "output_type": "stream",
     "text": [
      "\n",
      "\n",
      "\n",
      "الإجابة على الأسئلة بإجابات مختصرة ومباشرة.\n",
      "\n",
      "---\n",
      "\n",
      "Follow the following format.\n",
      "\n",
      "السياق: من الممكن ان يحتوي على السياق\n",
      "\n",
      "السؤال: :{السؤال}\n",
      "\n",
      "الاستدلال: دعونا نفكر خطوة بخطوة من أجل {إنتاج الإجابة}. نقوم ب…\n",
      "\n",
      "الجواب: جواب من ٥ الى ١٠ كلمات\n",
      "\n",
      "---\n",
      "\n",
      "السياق: «تعتزم الحكومة خلال العام القادم وعلى المدى المتوسط عبر سياساتها المالية على التوسع في مستويات الإنفاق الموجّه بشكل رئيسي إلى البرامج والمشاريع التنموية والاستراتيجيات المناطقية والقطاعية الدافعة لتعزيز النمو الاقتصادي المستدام، بالإضافة إلى تحسين ورفع جودة الخدمات العامة وتطوير البنية التحتية في مختلف مناطق المملكة؛ مما يساهم في رفع جودة الحياة وفقًا لرؤية السعودية 2030، بالإضافة إلى تمكين القطاع الخاص وتحفيز البيئة الاستثمارية، والاستمرار في تحسين منظومة الدعم والإعانات الاجتماعية. كما»\n",
      "\n",
      "السؤال: ما هي خطة الانفاق للأعوام القادمة؟\n",
      "\n",
      "الاستدلال: دعونا نفكر خطوة بخطوة من أجل زيادة الإنفاق على المشاريع التنموية والاستراتيجيات القطاعية لتعزيز النمو الاقتصادي.\n",
      "\n",
      "الجواب:\u001b[32m زيادة الإنفاق على المشاريع التنموية.\u001b[0m\n",
      "\n",
      "\n",
      "\n"
     ]
    },
    {
     "data": {
      "text/plain": [
       "'\\n\\n\\nالإجابة على الأسئلة بإجابات مختصرة ومباشرة.\\n\\n---\\n\\nFollow the following format.\\n\\nالسياق: من الممكن ان يحتوي على السياق\\n\\nالسؤال: :{السؤال}\\n\\nالاستدلال: دعونا نفكر خطوة بخطوة من أجل {إنتاج الإجابة}. نقوم ب…\\n\\nالجواب: جواب من ٥ الى ١٠ كلمات\\n\\n---\\n\\nالسياق: «تعتزم الحكومة خلال العام القادم وعلى المدى المتوسط عبر سياساتها المالية على التوسع في مستويات الإنفاق الموجّه بشكل رئيسي إلى البرامج والمشاريع التنموية والاستراتيجيات المناطقية والقطاعية الدافعة لتعزيز النمو الاقتصادي المستدام، بالإضافة إلى تحسين ورفع جودة الخدمات العامة وتطوير البنية التحتية في مختلف مناطق المملكة؛ مما يساهم في رفع جودة الحياة وفقًا لرؤية السعودية 2030، بالإضافة إلى تمكين القطاع الخاص وتحفيز البيئة الاستثمارية، والاستمرار في تحسين منظومة الدعم والإعانات الاجتماعية. كما»\\n\\nالسؤال: ما هي خطة الانفاق للأعوام القادمة؟\\n\\nالاستدلال: دعونا نفكر خطوة بخطوة من أجل زيادة الإنفاق على المشاريع التنموية والاستراتيجيات القطاعية لتعزيز النمو الاقتصادي.\\n\\nالجواب:\\x1b[32m زيادة الإنفاق على المشاريع التنموية.\\x1b[0m\\n\\n\\n'"
      ]
     },
     "execution_count": 212,
     "metadata": {},
     "output_type": "execute_result"
    }
   ],
   "source": [
    "ollama_model.inspect_history(n=1)"
   ]
  }
 ],
 "metadata": {
  "kernelspec": {
   "display_name": "Python ML",
   "language": "python",
   "name": "ml"
  },
  "language_info": {
   "codemirror_mode": {
    "name": "ipython",
    "version": 3
   },
   "file_extension": ".py",
   "mimetype": "text/x-python",
   "name": "python",
   "nbconvert_exporter": "python",
   "pygments_lexer": "ipython3",
   "version": "3.8.10"
  }
 },
 "nbformat": 4,
 "nbformat_minor": 5
}
